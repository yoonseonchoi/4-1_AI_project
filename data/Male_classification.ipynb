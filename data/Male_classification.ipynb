{
 "cells": [
  {
   "cell_type": "code",
   "execution_count": 1,
   "id": "d6188c3a",
   "metadata": {},
   "outputs": [],
   "source": [
    "import pandas as pd\n",
    "import os\n",
    "from PIL import Image"
   ]
  },
  {
   "cell_type": "code",
   "execution_count": 2,
   "id": "3463d427",
   "metadata": {},
   "outputs": [
    {
     "data": {
      "text/html": [
       "<div>\n",
       "<style scoped>\n",
       "    .dataframe tbody tr th:only-of-type {\n",
       "        vertical-align: middle;\n",
       "    }\n",
       "\n",
       "    .dataframe tbody tr th {\n",
       "        vertical-align: top;\n",
       "    }\n",
       "\n",
       "    .dataframe thead th {\n",
       "        text-align: right;\n",
       "    }\n",
       "</style>\n",
       "<table border=\"1\" class=\"dataframe\">\n",
       "  <thead>\n",
       "    <tr style=\"text-align: right;\">\n",
       "      <th></th>\n",
       "      <th>image_id</th>\n",
       "      <th>Male</th>\n",
       "    </tr>\n",
       "  </thead>\n",
       "  <tbody>\n",
       "    <tr>\n",
       "      <th>0</th>\n",
       "      <td>000001.jpg</td>\n",
       "      <td>-1</td>\n",
       "    </tr>\n",
       "    <tr>\n",
       "      <th>1</th>\n",
       "      <td>000002.jpg</td>\n",
       "      <td>-1</td>\n",
       "    </tr>\n",
       "    <tr>\n",
       "      <th>2</th>\n",
       "      <td>000003.jpg</td>\n",
       "      <td>1</td>\n",
       "    </tr>\n",
       "    <tr>\n",
       "      <th>3</th>\n",
       "      <td>000004.jpg</td>\n",
       "      <td>-1</td>\n",
       "    </tr>\n",
       "    <tr>\n",
       "      <th>4</th>\n",
       "      <td>000005.jpg</td>\n",
       "      <td>-1</td>\n",
       "    </tr>\n",
       "  </tbody>\n",
       "</table>\n",
       "</div>"
      ],
      "text/plain": [
       "     image_id  Male\n",
       "0  000001.jpg    -1\n",
       "1  000002.jpg    -1\n",
       "2  000003.jpg     1\n",
       "3  000004.jpg    -1\n",
       "4  000005.jpg    -1"
      ]
     },
     "execution_count": 2,
     "metadata": {},
     "output_type": "execute_result"
    }
   ],
   "source": [
    "df = pd.read_csv('list_attr_celeba.csv')\n",
    "df = df[['image_id', 'Male']]\n",
    "df.head()"
   ]
  },
  {
   "cell_type": "code",
   "execution_count": 3,
   "id": "e01051b8",
   "metadata": {},
   "outputs": [],
   "source": [
    "directory = './img_align_celeba'\n",
    "imgs = os.listdir(directory)"
   ]
  },
  {
   "cell_type": "code",
   "execution_count": 4,
   "id": "5bf0b4de",
   "metadata": {},
   "outputs": [],
   "source": [
    "men_folder = './men'"
   ]
  },
  {
   "cell_type": "code",
   "execution_count": 5,
   "id": "1ef20d8e",
   "metadata": {},
   "outputs": [],
   "source": [
    "men_list = df[df['Male']==1]['image_id'].values"
   ]
  },
  {
   "cell_type": "code",
   "execution_count": 6,
   "id": "673461b2",
   "metadata": {},
   "outputs": [],
   "source": [
    "for men in imgs:\n",
    "    if men in men_list:\n",
    "        with Image.open(os.path.join(directory, men)) as img:\n",
    "            img.save(os.path.join(men_folder, men))"
   ]
  },
  {
   "cell_type": "code",
   "execution_count": 7,
   "id": "8434e4d0",
   "metadata": {},
   "outputs": [],
   "source": [
    "import random\n",
    "import shutil"
   ]
  },
  {
   "cell_type": "code",
   "execution_count": 8,
   "id": "e1ef877f",
   "metadata": {},
   "outputs": [],
   "source": [
    "men_list = os.listdir(men_folder)\n",
    "num = 20000\n",
    "\n",
    "men_random = random.sample(men_list, num)"
   ]
  },
  {
   "cell_type": "code",
   "execution_count": 9,
   "id": "fd72810c",
   "metadata": {},
   "outputs": [],
   "source": [
    "men_random_path = './men_random'\n",
    "for man_random in men_random:\n",
    "    old_file_path = os.path.join(men_folder, man_random)\n",
    "    new_file_path = os.path.join(men_random_path, man_random)\n",
    "    shutil.copy2(old_file_path, new_file_path)"
   ]
  },
  {
   "cell_type": "code",
   "execution_count": null,
   "id": "af8425ab",
   "metadata": {},
   "outputs": [],
   "source": []
  }
 ],
 "metadata": {
  "kernelspec": {
   "display_name": "Python 3 (ipykernel)",
   "language": "python",
   "name": "python3"
  },
  "language_info": {
   "codemirror_mode": {
    "name": "ipython",
    "version": 3
   },
   "file_extension": ".py",
   "mimetype": "text/x-python",
   "name": "python",
   "nbconvert_exporter": "python",
   "pygments_lexer": "ipython3",
   "version": "3.9.7"
  }
 },
 "nbformat": 4,
 "nbformat_minor": 5
}
